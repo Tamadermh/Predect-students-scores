{
 "cells": [
  {
   "cell_type": "markdown",
   "id": "f0e42745",
   "metadata": {
    "execution": {
     "iopub.execute_input": "2023-05-26T17:49:14.660860Z",
     "iopub.status.busy": "2023-05-26T17:49:14.660411Z",
     "iopub.status.idle": "2023-05-26T17:49:14.668679Z",
     "shell.execute_reply": "2023-05-26T17:49:14.666968Z",
     "shell.execute_reply.started": "2023-05-26T17:49:14.660827Z"
    },
    "papermill": {
     "duration": 0.006362,
     "end_time": "2023-05-27T00:29:32.586125",
     "exception": false,
     "start_time": "2023-05-27T00:29:32.579763",
     "status": "completed"
    },
    "tags": []
   },
   "source": [
    "<font color='#867090' size=10><center>Predect Scores_ SImple Linear Regression</center> </font>\n"
   ]
  },
  {
   "cell_type": "markdown",
   "id": "9d620536",
   "metadata": {
    "papermill": {
     "duration": 0.005799,
     "end_time": "2023-05-27T00:29:32.598127",
     "exception": false,
     "start_time": "2023-05-27T00:29:32.592328",
     "status": "completed"
    },
    "tags": []
   },
   "source": [
    "<a id=\"TOC\"></a>\n",
    "\n",
    "<div class=\"list-group\" id=\"list-tab\" role=\"tablist\">\n",
    "<h1 class=\"list-group-item list-group-item-action active\" data-toggle=\"list\" style='background:#867090; border:0;color:white' role=\"tab\" aria-controls=\"home\">Table of Content</h1>\n",
    "    \n",
    "1. [Libraries](#library)\n",
    "2. [Data](#data)\n",
    "3. [Information about data](#infodata)\n",
    "4. [Basic Scatter Plot](#basic_scatter_plot)\n",
    "5. [Split Data](#split)\n",
    "6. [Bulid Model](#bulidmodel)\n",
    "7. [Predect](#pre)\n",
    "8. [Scatter Plot with Regression Fit](#reg_scatter_plot)"
   ]
  },
  {
   "cell_type": "markdown",
   "id": "c4ddbd6f",
   "metadata": {
    "papermill": {
     "duration": 0.005955,
     "end_time": "2023-05-27T00:29:32.610093",
     "exception": false,
     "start_time": "2023-05-27T00:29:32.604138",
     "status": "completed"
    },
    "tags": []
   },
   "source": [
    "<a id=\"library\"></a>\n",
    "<h1 style='background:#867090; border:0; color:white'>Import Libraries<h1>\n"
   ]
  },
  {
   "cell_type": "code",
   "execution_count": 1,
   "id": "d04868b2",
   "metadata": {
    "execution": {
     "iopub.execute_input": "2023-05-27T00:29:32.624520Z",
     "iopub.status.busy": "2023-05-27T00:29:32.623693Z",
     "iopub.status.idle": "2023-05-27T00:29:35.261110Z",
     "shell.execute_reply": "2023-05-27T00:29:35.260141Z"
    },
    "papermill": {
     "duration": 2.647595,
     "end_time": "2023-05-27T00:29:35.263684",
     "exception": false,
     "start_time": "2023-05-27T00:29:32.616089",
     "status": "completed"
    },
    "tags": []
   },
   "outputs": [],
   "source": [
    "import numpy as np \n",
    "import pandas as pd \n",
    "import matplotlib.pyplot as plt \n",
    "import seaborn as sns \n",
    "import plotly.express as px\n",
    "from sklearn.neighbors import KNeighborsClassifier\n",
    "from sklearn.model_selection import train_test_split\n",
    "from sklearn.linear_model import LinearRegression\n"
   ]
  },
  {
   "cell_type": "markdown",
   "id": "9c01ddae",
   "metadata": {
    "papermill": {
     "duration": 0.005839,
     "end_time": "2023-05-27T00:29:35.277173",
     "exception": false,
     "start_time": "2023-05-27T00:29:35.271334",
     "status": "completed"
    },
    "tags": []
   },
   "source": [
    "<a id=\"data\"></a>\n",
    "<h1 style='background:#867090; border:0; color:white'>Data<h1>"
   ]
  },
  {
   "cell_type": "markdown",
   "id": "29902ec9",
   "metadata": {
    "papermill": {
     "duration": 0.005805,
     "end_time": "2023-05-27T00:29:35.289160",
     "exception": false,
     "start_time": "2023-05-27T00:29:35.283355",
     "status": "completed"
    },
    "tags": []
   },
   "source": []
  },
  {
   "cell_type": "code",
   "execution_count": 2,
   "id": "dbfd4791",
   "metadata": {
    "execution": {
     "iopub.execute_input": "2023-05-27T00:29:35.303316Z",
     "iopub.status.busy": "2023-05-27T00:29:35.302488Z",
     "iopub.status.idle": "2023-05-27T00:29:35.321577Z",
     "shell.execute_reply": "2023-05-27T00:29:35.320775Z"
    },
    "papermill": {
     "duration": 0.02901,
     "end_time": "2023-05-27T00:29:35.324081",
     "exception": false,
     "start_time": "2023-05-27T00:29:35.295071",
     "status": "completed"
    },
    "tags": []
   },
   "outputs": [],
   "source": [
    "df=pd.read_csv('/kaggle/input/student-study-hours/score.csv')"
   ]
  },
  {
   "cell_type": "markdown",
   "id": "5e4f8c0f",
   "metadata": {
    "papermill": {
     "duration": 0.005789,
     "end_time": "2023-05-27T00:29:35.336054",
     "exception": false,
     "start_time": "2023-05-27T00:29:35.330265",
     "status": "completed"
    },
    "tags": []
   },
   "source": [
    "<a id=\"infodata\"></a>\n",
    "<h1 style='background:#867090; border:0; color:white'>Information about data<h1>"
   ]
  },
  {
   "cell_type": "code",
   "execution_count": 3,
   "id": "d7c0a5fd",
   "metadata": {
    "execution": {
     "iopub.execute_input": "2023-05-27T00:29:35.350223Z",
     "iopub.status.busy": "2023-05-27T00:29:35.349452Z",
     "iopub.status.idle": "2023-05-27T00:29:35.378060Z",
     "shell.execute_reply": "2023-05-27T00:29:35.376948Z"
    },
    "papermill": {
     "duration": 0.038417,
     "end_time": "2023-05-27T00:29:35.380423",
     "exception": false,
     "start_time": "2023-05-27T00:29:35.342006",
     "status": "completed"
    },
    "tags": []
   },
   "outputs": [
    {
     "data": {
      "text/html": [
       "<div>\n",
       "<style scoped>\n",
       "    .dataframe tbody tr th:only-of-type {\n",
       "        vertical-align: middle;\n",
       "    }\n",
       "\n",
       "    .dataframe tbody tr th {\n",
       "        vertical-align: top;\n",
       "    }\n",
       "\n",
       "    .dataframe thead th {\n",
       "        text-align: right;\n",
       "    }\n",
       "</style>\n",
       "<table border=\"1\" class=\"dataframe\">\n",
       "  <thead>\n",
       "    <tr style=\"text-align: right;\">\n",
       "      <th></th>\n",
       "      <th>Hours</th>\n",
       "      <th>Scores</th>\n",
       "    </tr>\n",
       "  </thead>\n",
       "  <tbody>\n",
       "    <tr>\n",
       "      <th>0</th>\n",
       "      <td>2.5</td>\n",
       "      <td>21</td>\n",
       "    </tr>\n",
       "    <tr>\n",
       "      <th>1</th>\n",
       "      <td>5.1</td>\n",
       "      <td>47</td>\n",
       "    </tr>\n",
       "    <tr>\n",
       "      <th>2</th>\n",
       "      <td>3.2</td>\n",
       "      <td>27</td>\n",
       "    </tr>\n",
       "    <tr>\n",
       "      <th>3</th>\n",
       "      <td>8.5</td>\n",
       "      <td>75</td>\n",
       "    </tr>\n",
       "    <tr>\n",
       "      <th>4</th>\n",
       "      <td>3.5</td>\n",
       "      <td>30</td>\n",
       "    </tr>\n",
       "  </tbody>\n",
       "</table>\n",
       "</div>"
      ],
      "text/plain": [
       "   Hours  Scores\n",
       "0    2.5      21\n",
       "1    5.1      47\n",
       "2    3.2      27\n",
       "3    8.5      75\n",
       "4    3.5      30"
      ]
     },
     "execution_count": 3,
     "metadata": {},
     "output_type": "execute_result"
    }
   ],
   "source": [
    "df.head()"
   ]
  },
  {
   "cell_type": "code",
   "execution_count": 4,
   "id": "2673c237",
   "metadata": {
    "execution": {
     "iopub.execute_input": "2023-05-27T00:29:35.394599Z",
     "iopub.status.busy": "2023-05-27T00:29:35.393760Z",
     "iopub.status.idle": "2023-05-27T00:29:35.416764Z",
     "shell.execute_reply": "2023-05-27T00:29:35.415492Z"
    },
    "papermill": {
     "duration": 0.032713,
     "end_time": "2023-05-27T00:29:35.419257",
     "exception": false,
     "start_time": "2023-05-27T00:29:35.386544",
     "status": "completed"
    },
    "tags": []
   },
   "outputs": [
    {
     "data": {
      "text/html": [
       "<div>\n",
       "<style scoped>\n",
       "    .dataframe tbody tr th:only-of-type {\n",
       "        vertical-align: middle;\n",
       "    }\n",
       "\n",
       "    .dataframe tbody tr th {\n",
       "        vertical-align: top;\n",
       "    }\n",
       "\n",
       "    .dataframe thead th {\n",
       "        text-align: right;\n",
       "    }\n",
       "</style>\n",
       "<table border=\"1\" class=\"dataframe\">\n",
       "  <thead>\n",
       "    <tr style=\"text-align: right;\">\n",
       "      <th></th>\n",
       "      <th>Hours</th>\n",
       "      <th>Scores</th>\n",
       "    </tr>\n",
       "  </thead>\n",
       "  <tbody>\n",
       "    <tr>\n",
       "      <th>count</th>\n",
       "      <td>25.000000</td>\n",
       "      <td>25.000000</td>\n",
       "    </tr>\n",
       "    <tr>\n",
       "      <th>mean</th>\n",
       "      <td>5.012000</td>\n",
       "      <td>51.480000</td>\n",
       "    </tr>\n",
       "    <tr>\n",
       "      <th>std</th>\n",
       "      <td>2.525094</td>\n",
       "      <td>25.286887</td>\n",
       "    </tr>\n",
       "    <tr>\n",
       "      <th>min</th>\n",
       "      <td>1.100000</td>\n",
       "      <td>17.000000</td>\n",
       "    </tr>\n",
       "    <tr>\n",
       "      <th>25%</th>\n",
       "      <td>2.700000</td>\n",
       "      <td>30.000000</td>\n",
       "    </tr>\n",
       "    <tr>\n",
       "      <th>50%</th>\n",
       "      <td>4.800000</td>\n",
       "      <td>47.000000</td>\n",
       "    </tr>\n",
       "    <tr>\n",
       "      <th>75%</th>\n",
       "      <td>7.400000</td>\n",
       "      <td>75.000000</td>\n",
       "    </tr>\n",
       "    <tr>\n",
       "      <th>max</th>\n",
       "      <td>9.200000</td>\n",
       "      <td>95.000000</td>\n",
       "    </tr>\n",
       "  </tbody>\n",
       "</table>\n",
       "</div>"
      ],
      "text/plain": [
       "           Hours     Scores\n",
       "count  25.000000  25.000000\n",
       "mean    5.012000  51.480000\n",
       "std     2.525094  25.286887\n",
       "min     1.100000  17.000000\n",
       "25%     2.700000  30.000000\n",
       "50%     4.800000  47.000000\n",
       "75%     7.400000  75.000000\n",
       "max     9.200000  95.000000"
      ]
     },
     "execution_count": 4,
     "metadata": {},
     "output_type": "execute_result"
    }
   ],
   "source": [
    "df.describe()"
   ]
  },
  {
   "cell_type": "code",
   "execution_count": 5,
   "id": "f2e67b12",
   "metadata": {
    "execution": {
     "iopub.execute_input": "2023-05-27T00:29:35.434263Z",
     "iopub.status.busy": "2023-05-27T00:29:35.433493Z",
     "iopub.status.idle": "2023-05-27T00:29:35.447543Z",
     "shell.execute_reply": "2023-05-27T00:29:35.446472Z"
    },
    "papermill": {
     "duration": 0.024004,
     "end_time": "2023-05-27T00:29:35.449718",
     "exception": false,
     "start_time": "2023-05-27T00:29:35.425714",
     "status": "completed"
    },
    "tags": []
   },
   "outputs": [
    {
     "data": {
      "text/html": [
       "<div>\n",
       "<style scoped>\n",
       "    .dataframe tbody tr th:only-of-type {\n",
       "        vertical-align: middle;\n",
       "    }\n",
       "\n",
       "    .dataframe tbody tr th {\n",
       "        vertical-align: top;\n",
       "    }\n",
       "\n",
       "    .dataframe thead th {\n",
       "        text-align: right;\n",
       "    }\n",
       "</style>\n",
       "<table border=\"1\" class=\"dataframe\">\n",
       "  <thead>\n",
       "    <tr style=\"text-align: right;\">\n",
       "      <th></th>\n",
       "      <th>Hours</th>\n",
       "      <th>Scores</th>\n",
       "    </tr>\n",
       "  </thead>\n",
       "  <tbody>\n",
       "    <tr>\n",
       "      <th>16</th>\n",
       "      <td>2.5</td>\n",
       "      <td>30</td>\n",
       "    </tr>\n",
       "    <tr>\n",
       "      <th>10</th>\n",
       "      <td>7.7</td>\n",
       "      <td>85</td>\n",
       "    </tr>\n",
       "    <tr>\n",
       "      <th>5</th>\n",
       "      <td>1.5</td>\n",
       "      <td>20</td>\n",
       "    </tr>\n",
       "    <tr>\n",
       "      <th>23</th>\n",
       "      <td>6.9</td>\n",
       "      <td>76</td>\n",
       "    </tr>\n",
       "    <tr>\n",
       "      <th>14</th>\n",
       "      <td>1.1</td>\n",
       "      <td>17</td>\n",
       "    </tr>\n",
       "    <tr>\n",
       "      <th>21</th>\n",
       "      <td>4.8</td>\n",
       "      <td>54</td>\n",
       "    </tr>\n",
       "    <tr>\n",
       "      <th>3</th>\n",
       "      <td>8.5</td>\n",
       "      <td>75</td>\n",
       "    </tr>\n",
       "    <tr>\n",
       "      <th>20</th>\n",
       "      <td>2.7</td>\n",
       "      <td>30</td>\n",
       "    </tr>\n",
       "    <tr>\n",
       "      <th>18</th>\n",
       "      <td>6.1</td>\n",
       "      <td>67</td>\n",
       "    </tr>\n",
       "    <tr>\n",
       "      <th>13</th>\n",
       "      <td>3.3</td>\n",
       "      <td>42</td>\n",
       "    </tr>\n",
       "  </tbody>\n",
       "</table>\n",
       "</div>"
      ],
      "text/plain": [
       "    Hours  Scores\n",
       "16    2.5      30\n",
       "10    7.7      85\n",
       "5     1.5      20\n",
       "23    6.9      76\n",
       "14    1.1      17\n",
       "21    4.8      54\n",
       "3     8.5      75\n",
       "20    2.7      30\n",
       "18    6.1      67\n",
       "13    3.3      42"
      ]
     },
     "execution_count": 5,
     "metadata": {},
     "output_type": "execute_result"
    }
   ],
   "source": [
    "df.sample(10)"
   ]
  },
  {
   "cell_type": "code",
   "execution_count": 6,
   "id": "8a1b95a7",
   "metadata": {
    "execution": {
     "iopub.execute_input": "2023-05-27T00:29:35.464750Z",
     "iopub.status.busy": "2023-05-27T00:29:35.464371Z",
     "iopub.status.idle": "2023-05-27T00:29:35.486049Z",
     "shell.execute_reply": "2023-05-27T00:29:35.484924Z"
    },
    "papermill": {
     "duration": 0.032109,
     "end_time": "2023-05-27T00:29:35.488279",
     "exception": false,
     "start_time": "2023-05-27T00:29:35.456170",
     "status": "completed"
    },
    "tags": []
   },
   "outputs": [
    {
     "name": "stdout",
     "output_type": "stream",
     "text": [
      "<class 'pandas.core.frame.DataFrame'>\n",
      "RangeIndex: 25 entries, 0 to 24\n",
      "Data columns (total 2 columns):\n",
      " #   Column  Non-Null Count  Dtype  \n",
      "---  ------  --------------  -----  \n",
      " 0   Hours   25 non-null     float64\n",
      " 1   Scores  25 non-null     int64  \n",
      "dtypes: float64(1), int64(1)\n",
      "memory usage: 528.0 bytes\n"
     ]
    }
   ],
   "source": [
    "df.info()"
   ]
  },
  {
   "cell_type": "markdown",
   "id": "b66ab169",
   "metadata": {
    "papermill": {
     "duration": 0.006374,
     "end_time": "2023-05-27T00:29:35.501440",
     "exception": false,
     "start_time": "2023-05-27T00:29:35.495066",
     "status": "completed"
    },
    "tags": []
   },
   "source": [
    "<a id=\"basic_scatter_plot\"></a>\n",
    "<h1 style='background:#867090; border:0; color:white'>Scatter Plot<h1>"
   ]
  },
  {
   "cell_type": "code",
   "execution_count": 7,
   "id": "13d9e1d3",
   "metadata": {
    "execution": {
     "iopub.execute_input": "2023-05-27T00:29:35.516900Z",
     "iopub.status.busy": "2023-05-27T00:29:35.516256Z",
     "iopub.status.idle": "2023-05-27T00:29:37.309851Z",
     "shell.execute_reply": "2023-05-27T00:29:37.308712Z"
    },
    "papermill": {
     "duration": 1.804432,
     "end_time": "2023-05-27T00:29:37.312487",
     "exception": false,
     "start_time": "2023-05-27T00:29:35.508055",
     "status": "completed"
    },
    "tags": []
   },
   "outputs": [
    {
     "data": {
      "text/html": [
       "        <script type=\"text/javascript\">\n",
       "        window.PlotlyConfig = {MathJaxConfig: 'local'};\n",
       "        if (window.MathJax && window.MathJax.Hub && window.MathJax.Hub.Config) {window.MathJax.Hub.Config({SVG: {font: \"STIX-Web\"}});}\n",
       "        if (typeof require !== 'undefined') {\n",
       "        require.undef(\"plotly\");\n",
       "        requirejs.config({\n",
       "            paths: {\n",
       "                'plotly': ['https://cdn.plot.ly/plotly-2.20.0.min']\n",
       "            }\n",
       "        });\n",
       "        require(['plotly'], function(Plotly) {\n",
       "            window._Plotly = Plotly;\n",
       "        });\n",
       "        }\n",
       "        </script>\n",
       "        "
      ]
     },
     "metadata": {},
     "output_type": "display_data"
    },
    {
     "data": {
      "text/html": [
       "<div>                            <div id=\"295c4c13-199c-416d-9fb4-53a74da39336\" class=\"plotly-graph-div\" style=\"height:525px; width:100%;\"></div>            <script type=\"text/javascript\">                require([\"plotly\"], function(Plotly) {                    window.PLOTLYENV=window.PLOTLYENV || {};                                    if (document.getElementById(\"295c4c13-199c-416d-9fb4-53a74da39336\")) {                    Plotly.newPlot(                        \"295c4c13-199c-416d-9fb4-53a74da39336\",                        [{\"hovertemplate\":\"x=%{x}<br>index=%{y}<extra></extra>\",\"legendgroup\":\"\",\"marker\":{\"color\":\"#636efa\",\"symbol\":\"circle\"},\"mode\":\"markers\",\"name\":\"\",\"orientation\":\"h\",\"showlegend\":false,\"x\":[21,47,27,75,30,20,88,60,81,25,85,62,41,42,17,95,30,24,67,69,30,54,35,76,86],\"xaxis\":\"x\",\"y\":[0,1,2,3,4,5,6,7,8,9,10,11,12,13,14,15,16,17,18,19,20,21,22,23,24],\"yaxis\":\"y\",\"type\":\"scatter\"}],                        {\"template\":{\"data\":{\"histogram2dcontour\":[{\"type\":\"histogram2dcontour\",\"colorbar\":{\"outlinewidth\":0,\"ticks\":\"\"},\"colorscale\":[[0.0,\"#0d0887\"],[0.1111111111111111,\"#46039f\"],[0.2222222222222222,\"#7201a8\"],[0.3333333333333333,\"#9c179e\"],[0.4444444444444444,\"#bd3786\"],[0.5555555555555556,\"#d8576b\"],[0.6666666666666666,\"#ed7953\"],[0.7777777777777778,\"#fb9f3a\"],[0.8888888888888888,\"#fdca26\"],[1.0,\"#f0f921\"]]}],\"choropleth\":[{\"type\":\"choropleth\",\"colorbar\":{\"outlinewidth\":0,\"ticks\":\"\"}}],\"histogram2d\":[{\"type\":\"histogram2d\",\"colorbar\":{\"outlinewidth\":0,\"ticks\":\"\"},\"colorscale\":[[0.0,\"#0d0887\"],[0.1111111111111111,\"#46039f\"],[0.2222222222222222,\"#7201a8\"],[0.3333333333333333,\"#9c179e\"],[0.4444444444444444,\"#bd3786\"],[0.5555555555555556,\"#d8576b\"],[0.6666666666666666,\"#ed7953\"],[0.7777777777777778,\"#fb9f3a\"],[0.8888888888888888,\"#fdca26\"],[1.0,\"#f0f921\"]]}],\"heatmap\":[{\"type\":\"heatmap\",\"colorbar\":{\"outlinewidth\":0,\"ticks\":\"\"},\"colorscale\":[[0.0,\"#0d0887\"],[0.1111111111111111,\"#46039f\"],[0.2222222222222222,\"#7201a8\"],[0.3333333333333333,\"#9c179e\"],[0.4444444444444444,\"#bd3786\"],[0.5555555555555556,\"#d8576b\"],[0.6666666666666666,\"#ed7953\"],[0.7777777777777778,\"#fb9f3a\"],[0.8888888888888888,\"#fdca26\"],[1.0,\"#f0f921\"]]}],\"heatmapgl\":[{\"type\":\"heatmapgl\",\"colorbar\":{\"outlinewidth\":0,\"ticks\":\"\"},\"colorscale\":[[0.0,\"#0d0887\"],[0.1111111111111111,\"#46039f\"],[0.2222222222222222,\"#7201a8\"],[0.3333333333333333,\"#9c179e\"],[0.4444444444444444,\"#bd3786\"],[0.5555555555555556,\"#d8576b\"],[0.6666666666666666,\"#ed7953\"],[0.7777777777777778,\"#fb9f3a\"],[0.8888888888888888,\"#fdca26\"],[1.0,\"#f0f921\"]]}],\"contourcarpet\":[{\"type\":\"contourcarpet\",\"colorbar\":{\"outlinewidth\":0,\"ticks\":\"\"}}],\"contour\":[{\"type\":\"contour\",\"colorbar\":{\"outlinewidth\":0,\"ticks\":\"\"},\"colorscale\":[[0.0,\"#0d0887\"],[0.1111111111111111,\"#46039f\"],[0.2222222222222222,\"#7201a8\"],[0.3333333333333333,\"#9c179e\"],[0.4444444444444444,\"#bd3786\"],[0.5555555555555556,\"#d8576b\"],[0.6666666666666666,\"#ed7953\"],[0.7777777777777778,\"#fb9f3a\"],[0.8888888888888888,\"#fdca26\"],[1.0,\"#f0f921\"]]}],\"surface\":[{\"type\":\"surface\",\"colorbar\":{\"outlinewidth\":0,\"ticks\":\"\"},\"colorscale\":[[0.0,\"#0d0887\"],[0.1111111111111111,\"#46039f\"],[0.2222222222222222,\"#7201a8\"],[0.3333333333333333,\"#9c179e\"],[0.4444444444444444,\"#bd3786\"],[0.5555555555555556,\"#d8576b\"],[0.6666666666666666,\"#ed7953\"],[0.7777777777777778,\"#fb9f3a\"],[0.8888888888888888,\"#fdca26\"],[1.0,\"#f0f921\"]]}],\"mesh3d\":[{\"type\":\"mesh3d\",\"colorbar\":{\"outlinewidth\":0,\"ticks\":\"\"}}],\"scatter\":[{\"fillpattern\":{\"fillmode\":\"overlay\",\"size\":10,\"solidity\":0.2},\"type\":\"scatter\"}],\"parcoords\":[{\"type\":\"parcoords\",\"line\":{\"colorbar\":{\"outlinewidth\":0,\"ticks\":\"\"}}}],\"scatterpolargl\":[{\"type\":\"scatterpolargl\",\"marker\":{\"colorbar\":{\"outlinewidth\":0,\"ticks\":\"\"}}}],\"bar\":[{\"error_x\":{\"color\":\"#2a3f5f\"},\"error_y\":{\"color\":\"#2a3f5f\"},\"marker\":{\"line\":{\"color\":\"#E5ECF6\",\"width\":0.5},\"pattern\":{\"fillmode\":\"overlay\",\"size\":10,\"solidity\":0.2}},\"type\":\"bar\"}],\"scattergeo\":[{\"type\":\"scattergeo\",\"marker\":{\"colorbar\":{\"outlinewidth\":0,\"ticks\":\"\"}}}],\"scatterpolar\":[{\"type\":\"scatterpolar\",\"marker\":{\"colorbar\":{\"outlinewidth\":0,\"ticks\":\"\"}}}],\"histogram\":[{\"marker\":{\"pattern\":{\"fillmode\":\"overlay\",\"size\":10,\"solidity\":0.2}},\"type\":\"histogram\"}],\"scattergl\":[{\"type\":\"scattergl\",\"marker\":{\"colorbar\":{\"outlinewidth\":0,\"ticks\":\"\"}}}],\"scatter3d\":[{\"type\":\"scatter3d\",\"line\":{\"colorbar\":{\"outlinewidth\":0,\"ticks\":\"\"}},\"marker\":{\"colorbar\":{\"outlinewidth\":0,\"ticks\":\"\"}}}],\"scattermapbox\":[{\"type\":\"scattermapbox\",\"marker\":{\"colorbar\":{\"outlinewidth\":0,\"ticks\":\"\"}}}],\"scatterternary\":[{\"type\":\"scatterternary\",\"marker\":{\"colorbar\":{\"outlinewidth\":0,\"ticks\":\"\"}}}],\"scattercarpet\":[{\"type\":\"scattercarpet\",\"marker\":{\"colorbar\":{\"outlinewidth\":0,\"ticks\":\"\"}}}],\"carpet\":[{\"aaxis\":{\"endlinecolor\":\"#2a3f5f\",\"gridcolor\":\"white\",\"linecolor\":\"white\",\"minorgridcolor\":\"white\",\"startlinecolor\":\"#2a3f5f\"},\"baxis\":{\"endlinecolor\":\"#2a3f5f\",\"gridcolor\":\"white\",\"linecolor\":\"white\",\"minorgridcolor\":\"white\",\"startlinecolor\":\"#2a3f5f\"},\"type\":\"carpet\"}],\"table\":[{\"cells\":{\"fill\":{\"color\":\"#EBF0F8\"},\"line\":{\"color\":\"white\"}},\"header\":{\"fill\":{\"color\":\"#C8D4E3\"},\"line\":{\"color\":\"white\"}},\"type\":\"table\"}],\"barpolar\":[{\"marker\":{\"line\":{\"color\":\"#E5ECF6\",\"width\":0.5},\"pattern\":{\"fillmode\":\"overlay\",\"size\":10,\"solidity\":0.2}},\"type\":\"barpolar\"}],\"pie\":[{\"automargin\":true,\"type\":\"pie\"}]},\"layout\":{\"autotypenumbers\":\"strict\",\"colorway\":[\"#636efa\",\"#EF553B\",\"#00cc96\",\"#ab63fa\",\"#FFA15A\",\"#19d3f3\",\"#FF6692\",\"#B6E880\",\"#FF97FF\",\"#FECB52\"],\"font\":{\"color\":\"#2a3f5f\"},\"hovermode\":\"closest\",\"hoverlabel\":{\"align\":\"left\"},\"paper_bgcolor\":\"white\",\"plot_bgcolor\":\"#E5ECF6\",\"polar\":{\"bgcolor\":\"#E5ECF6\",\"angularaxis\":{\"gridcolor\":\"white\",\"linecolor\":\"white\",\"ticks\":\"\"},\"radialaxis\":{\"gridcolor\":\"white\",\"linecolor\":\"white\",\"ticks\":\"\"}},\"ternary\":{\"bgcolor\":\"#E5ECF6\",\"aaxis\":{\"gridcolor\":\"white\",\"linecolor\":\"white\",\"ticks\":\"\"},\"baxis\":{\"gridcolor\":\"white\",\"linecolor\":\"white\",\"ticks\":\"\"},\"caxis\":{\"gridcolor\":\"white\",\"linecolor\":\"white\",\"ticks\":\"\"}},\"coloraxis\":{\"colorbar\":{\"outlinewidth\":0,\"ticks\":\"\"}},\"colorscale\":{\"sequential\":[[0.0,\"#0d0887\"],[0.1111111111111111,\"#46039f\"],[0.2222222222222222,\"#7201a8\"],[0.3333333333333333,\"#9c179e\"],[0.4444444444444444,\"#bd3786\"],[0.5555555555555556,\"#d8576b\"],[0.6666666666666666,\"#ed7953\"],[0.7777777777777778,\"#fb9f3a\"],[0.8888888888888888,\"#fdca26\"],[1.0,\"#f0f921\"]],\"sequentialminus\":[[0.0,\"#0d0887\"],[0.1111111111111111,\"#46039f\"],[0.2222222222222222,\"#7201a8\"],[0.3333333333333333,\"#9c179e\"],[0.4444444444444444,\"#bd3786\"],[0.5555555555555556,\"#d8576b\"],[0.6666666666666666,\"#ed7953\"],[0.7777777777777778,\"#fb9f3a\"],[0.8888888888888888,\"#fdca26\"],[1.0,\"#f0f921\"]],\"diverging\":[[0,\"#8e0152\"],[0.1,\"#c51b7d\"],[0.2,\"#de77ae\"],[0.3,\"#f1b6da\"],[0.4,\"#fde0ef\"],[0.5,\"#f7f7f7\"],[0.6,\"#e6f5d0\"],[0.7,\"#b8e186\"],[0.8,\"#7fbc41\"],[0.9,\"#4d9221\"],[1,\"#276419\"]]},\"xaxis\":{\"gridcolor\":\"white\",\"linecolor\":\"white\",\"ticks\":\"\",\"title\":{\"standoff\":15},\"zerolinecolor\":\"white\",\"automargin\":true,\"zerolinewidth\":2},\"yaxis\":{\"gridcolor\":\"white\",\"linecolor\":\"white\",\"ticks\":\"\",\"title\":{\"standoff\":15},\"zerolinecolor\":\"white\",\"automargin\":true,\"zerolinewidth\":2},\"scene\":{\"xaxis\":{\"backgroundcolor\":\"#E5ECF6\",\"gridcolor\":\"white\",\"linecolor\":\"white\",\"showbackground\":true,\"ticks\":\"\",\"zerolinecolor\":\"white\",\"gridwidth\":2},\"yaxis\":{\"backgroundcolor\":\"#E5ECF6\",\"gridcolor\":\"white\",\"linecolor\":\"white\",\"showbackground\":true,\"ticks\":\"\",\"zerolinecolor\":\"white\",\"gridwidth\":2},\"zaxis\":{\"backgroundcolor\":\"#E5ECF6\",\"gridcolor\":\"white\",\"linecolor\":\"white\",\"showbackground\":true,\"ticks\":\"\",\"zerolinecolor\":\"white\",\"gridwidth\":2}},\"shapedefaults\":{\"line\":{\"color\":\"#2a3f5f\"}},\"annotationdefaults\":{\"arrowcolor\":\"#2a3f5f\",\"arrowhead\":0,\"arrowwidth\":1},\"geo\":{\"bgcolor\":\"white\",\"landcolor\":\"#E5ECF6\",\"subunitcolor\":\"white\",\"showland\":true,\"showlakes\":true,\"lakecolor\":\"white\"},\"title\":{\"x\":0.05},\"mapbox\":{\"style\":\"light\"}}},\"xaxis\":{\"anchor\":\"y\",\"domain\":[0.0,1.0],\"title\":{\"text\":\"x\"}},\"yaxis\":{\"anchor\":\"x\",\"domain\":[0.0,1.0],\"title\":{\"text\":\"index\"}},\"legend\":{\"tracegroupgap\":0},\"margin\":{\"t\":60}},                        {\"responsive\": true}                    ).then(function(){\n",
       "                            \n",
       "var gd = document.getElementById('295c4c13-199c-416d-9fb4-53a74da39336');\n",
       "var x = new MutationObserver(function (mutations, observer) {{\n",
       "        var display = window.getComputedStyle(gd).display;\n",
       "        if (!display || display === 'none') {{\n",
       "            console.log([gd, 'removed!']);\n",
       "            Plotly.purge(gd);\n",
       "            observer.disconnect();\n",
       "        }}\n",
       "}});\n",
       "\n",
       "// Listen for the removal of the full notebook cells\n",
       "var notebookContainer = gd.closest('#notebook-container');\n",
       "if (notebookContainer) {{\n",
       "    x.observe(notebookContainer, {childList: true});\n",
       "}}\n",
       "\n",
       "// Listen for the clearing of the current output cell\n",
       "var outputEl = gd.closest('.output');\n",
       "if (outputEl) {{\n",
       "    x.observe(outputEl, {childList: true});\n",
       "}}\n",
       "\n",
       "                        })                };                });            </script>        </div>"
      ]
     },
     "metadata": {},
     "output_type": "display_data"
    }
   ],
   "source": [
    "fig = px.scatter(df['Hours'],df['Scores'])\n",
    "fig.show()"
   ]
  },
  {
   "cell_type": "markdown",
   "id": "6d387c34",
   "metadata": {
    "papermill": {
     "duration": 0.006663,
     "end_time": "2023-05-27T00:29:37.326745",
     "exception": false,
     "start_time": "2023-05-27T00:29:37.320082",
     "status": "completed"
    },
    "tags": []
   },
   "source": [
    "<a id=\"split\"></a>\n",
    "<h1 style='background:#867090; border:0; color:white'>Split Data<h1>"
   ]
  },
  {
   "cell_type": "code",
   "execution_count": 8,
   "id": "d2f025dc",
   "metadata": {
    "execution": {
     "iopub.execute_input": "2023-05-27T00:29:37.342545Z",
     "iopub.status.busy": "2023-05-27T00:29:37.342146Z",
     "iopub.status.idle": "2023-05-27T00:29:37.347654Z",
     "shell.execute_reply": "2023-05-27T00:29:37.346745Z"
    },
    "papermill": {
     "duration": 0.015779,
     "end_time": "2023-05-27T00:29:37.349549",
     "exception": false,
     "start_time": "2023-05-27T00:29:37.333770",
     "status": "completed"
    },
    "tags": []
   },
   "outputs": [],
   "source": [
    "x = df.iloc[:,:-1].values\n",
    "y = df.iloc[:,-1].values"
   ]
  },
  {
   "cell_type": "code",
   "execution_count": 9,
   "id": "6408b981",
   "metadata": {
    "execution": {
     "iopub.execute_input": "2023-05-27T00:29:37.365665Z",
     "iopub.status.busy": "2023-05-27T00:29:37.364787Z",
     "iopub.status.idle": "2023-05-27T00:29:37.370737Z",
     "shell.execute_reply": "2023-05-27T00:29:37.370047Z"
    },
    "papermill": {
     "duration": 0.015857,
     "end_time": "2023-05-27T00:29:37.372536",
     "exception": false,
     "start_time": "2023-05-27T00:29:37.356679",
     "status": "completed"
    },
    "tags": []
   },
   "outputs": [
    {
     "data": {
      "text/plain": [
       "array([[2.5],\n",
       "       [5.1],\n",
       "       [3.2],\n",
       "       [8.5],\n",
       "       [3.5],\n",
       "       [1.5],\n",
       "       [9.2],\n",
       "       [5.5],\n",
       "       [8.3],\n",
       "       [2.7],\n",
       "       [7.7],\n",
       "       [5.9],\n",
       "       [4.5],\n",
       "       [3.3],\n",
       "       [1.1],\n",
       "       [8.9],\n",
       "       [2.5],\n",
       "       [1.9],\n",
       "       [6.1],\n",
       "       [7.4],\n",
       "       [2.7],\n",
       "       [4.8],\n",
       "       [3.8],\n",
       "       [6.9],\n",
       "       [7.8]])"
      ]
     },
     "execution_count": 9,
     "metadata": {},
     "output_type": "execute_result"
    }
   ],
   "source": [
    "x"
   ]
  },
  {
   "cell_type": "code",
   "execution_count": 10,
   "id": "6069c0f4",
   "metadata": {
    "execution": {
     "iopub.execute_input": "2023-05-27T00:29:37.388710Z",
     "iopub.status.busy": "2023-05-27T00:29:37.388280Z",
     "iopub.status.idle": "2023-05-27T00:29:37.394019Z",
     "shell.execute_reply": "2023-05-27T00:29:37.393203Z"
    },
    "papermill": {
     "duration": 0.016183,
     "end_time": "2023-05-27T00:29:37.395955",
     "exception": false,
     "start_time": "2023-05-27T00:29:37.379772",
     "status": "completed"
    },
    "tags": []
   },
   "outputs": [
    {
     "data": {
      "text/plain": [
       "array([21, 47, 27, 75, 30, 20, 88, 60, 81, 25, 85, 62, 41, 42, 17, 95, 30,\n",
       "       24, 67, 69, 30, 54, 35, 76, 86])"
      ]
     },
     "execution_count": 10,
     "metadata": {},
     "output_type": "execute_result"
    }
   ],
   "source": [
    "y"
   ]
  },
  {
   "cell_type": "code",
   "execution_count": 11,
   "id": "443aac10",
   "metadata": {
    "execution": {
     "iopub.execute_input": "2023-05-27T00:29:37.413042Z",
     "iopub.status.busy": "2023-05-27T00:29:37.411858Z",
     "iopub.status.idle": "2023-05-27T00:29:37.417915Z",
     "shell.execute_reply": "2023-05-27T00:29:37.416921Z"
    },
    "papermill": {
     "duration": 0.016875,
     "end_time": "2023-05-27T00:29:37.420234",
     "exception": false,
     "start_time": "2023-05-27T00:29:37.403359",
     "status": "completed"
    },
    "tags": []
   },
   "outputs": [],
   "source": [
    "X_train , X_test , y_train , y_test = train_test_split(x,y,test_size=.20)\n"
   ]
  },
  {
   "cell_type": "code",
   "execution_count": 12,
   "id": "403e85ed",
   "metadata": {
    "execution": {
     "iopub.execute_input": "2023-05-27T00:29:37.436670Z",
     "iopub.status.busy": "2023-05-27T00:29:37.436004Z",
     "iopub.status.idle": "2023-05-27T00:29:37.441681Z",
     "shell.execute_reply": "2023-05-27T00:29:37.440714Z"
    },
    "papermill": {
     "duration": 0.016481,
     "end_time": "2023-05-27T00:29:37.443885",
     "exception": false,
     "start_time": "2023-05-27T00:29:37.427404",
     "status": "completed"
    },
    "tags": []
   },
   "outputs": [
    {
     "data": {
      "text/plain": [
       "array([[5.9],\n",
       "       [7.8],\n",
       "       [3.2],\n",
       "       [1.1],\n",
       "       [8.3],\n",
       "       [1.9],\n",
       "       [2.7],\n",
       "       [2.5],\n",
       "       [2.5],\n",
       "       [6.1],\n",
       "       [7.7],\n",
       "       [2.7],\n",
       "       [6.9],\n",
       "       [4.5],\n",
       "       [3.5],\n",
       "       [7.4],\n",
       "       [3.8],\n",
       "       [4.8],\n",
       "       [8.5],\n",
       "       [8.9]])"
      ]
     },
     "execution_count": 12,
     "metadata": {},
     "output_type": "execute_result"
    }
   ],
   "source": [
    "X_train"
   ]
  },
  {
   "cell_type": "code",
   "execution_count": 13,
   "id": "55c3f009",
   "metadata": {
    "execution": {
     "iopub.execute_input": "2023-05-27T00:29:37.460556Z",
     "iopub.status.busy": "2023-05-27T00:29:37.459891Z",
     "iopub.status.idle": "2023-05-27T00:29:37.465403Z",
     "shell.execute_reply": "2023-05-27T00:29:37.464706Z"
    },
    "papermill": {
     "duration": 0.016067,
     "end_time": "2023-05-27T00:29:37.467386",
     "exception": false,
     "start_time": "2023-05-27T00:29:37.451319",
     "status": "completed"
    },
    "tags": []
   },
   "outputs": [
    {
     "data": {
      "text/plain": [
       "array([[1.5],\n",
       "       [5.5],\n",
       "       [9.2],\n",
       "       [5.1],\n",
       "       [3.3]])"
      ]
     },
     "execution_count": 13,
     "metadata": {},
     "output_type": "execute_result"
    }
   ],
   "source": [
    "X_test"
   ]
  },
  {
   "cell_type": "markdown",
   "id": "b1c9011f",
   "metadata": {
    "papermill": {
     "duration": 0.007175,
     "end_time": "2023-05-27T00:29:37.481947",
     "exception": false,
     "start_time": "2023-05-27T00:29:37.474772",
     "status": "completed"
    },
    "tags": []
   },
   "source": [
    "<a id=\"bulidmodel\"></a>\n",
    "<h1 style='background:#867090; border:0; color:white'>Bulid Model<h1>"
   ]
  },
  {
   "cell_type": "code",
   "execution_count": 14,
   "id": "9f615ea1",
   "metadata": {
    "execution": {
     "iopub.execute_input": "2023-05-27T00:29:37.498672Z",
     "iopub.status.busy": "2023-05-27T00:29:37.498256Z",
     "iopub.status.idle": "2023-05-27T00:29:37.524866Z",
     "shell.execute_reply": "2023-05-27T00:29:37.523734Z"
    },
    "papermill": {
     "duration": 0.037918,
     "end_time": "2023-05-27T00:29:37.527107",
     "exception": false,
     "start_time": "2023-05-27T00:29:37.489189",
     "status": "completed"
    },
    "tags": []
   },
   "outputs": [
    {
     "data": {
      "text/html": [
       "<style>#sk-container-id-1 {color: black;background-color: white;}#sk-container-id-1 pre{padding: 0;}#sk-container-id-1 div.sk-toggleable {background-color: white;}#sk-container-id-1 label.sk-toggleable__label {cursor: pointer;display: block;width: 100%;margin-bottom: 0;padding: 0.3em;box-sizing: border-box;text-align: center;}#sk-container-id-1 label.sk-toggleable__label-arrow:before {content: \"▸\";float: left;margin-right: 0.25em;color: #696969;}#sk-container-id-1 label.sk-toggleable__label-arrow:hover:before {color: black;}#sk-container-id-1 div.sk-estimator:hover label.sk-toggleable__label-arrow:before {color: black;}#sk-container-id-1 div.sk-toggleable__content {max-height: 0;max-width: 0;overflow: hidden;text-align: left;background-color: #f0f8ff;}#sk-container-id-1 div.sk-toggleable__content pre {margin: 0.2em;color: black;border-radius: 0.25em;background-color: #f0f8ff;}#sk-container-id-1 input.sk-toggleable__control:checked~div.sk-toggleable__content {max-height: 200px;max-width: 100%;overflow: auto;}#sk-container-id-1 input.sk-toggleable__control:checked~label.sk-toggleable__label-arrow:before {content: \"▾\";}#sk-container-id-1 div.sk-estimator input.sk-toggleable__control:checked~label.sk-toggleable__label {background-color: #d4ebff;}#sk-container-id-1 div.sk-label input.sk-toggleable__control:checked~label.sk-toggleable__label {background-color: #d4ebff;}#sk-container-id-1 input.sk-hidden--visually {border: 0;clip: rect(1px 1px 1px 1px);clip: rect(1px, 1px, 1px, 1px);height: 1px;margin: -1px;overflow: hidden;padding: 0;position: absolute;width: 1px;}#sk-container-id-1 div.sk-estimator {font-family: monospace;background-color: #f0f8ff;border: 1px dotted black;border-radius: 0.25em;box-sizing: border-box;margin-bottom: 0.5em;}#sk-container-id-1 div.sk-estimator:hover {background-color: #d4ebff;}#sk-container-id-1 div.sk-parallel-item::after {content: \"\";width: 100%;border-bottom: 1px solid gray;flex-grow: 1;}#sk-container-id-1 div.sk-label:hover label.sk-toggleable__label {background-color: #d4ebff;}#sk-container-id-1 div.sk-serial::before {content: \"\";position: absolute;border-left: 1px solid gray;box-sizing: border-box;top: 0;bottom: 0;left: 50%;z-index: 0;}#sk-container-id-1 div.sk-serial {display: flex;flex-direction: column;align-items: center;background-color: white;padding-right: 0.2em;padding-left: 0.2em;position: relative;}#sk-container-id-1 div.sk-item {position: relative;z-index: 1;}#sk-container-id-1 div.sk-parallel {display: flex;align-items: stretch;justify-content: center;background-color: white;position: relative;}#sk-container-id-1 div.sk-item::before, #sk-container-id-1 div.sk-parallel-item::before {content: \"\";position: absolute;border-left: 1px solid gray;box-sizing: border-box;top: 0;bottom: 0;left: 50%;z-index: -1;}#sk-container-id-1 div.sk-parallel-item {display: flex;flex-direction: column;z-index: 1;position: relative;background-color: white;}#sk-container-id-1 div.sk-parallel-item:first-child::after {align-self: flex-end;width: 50%;}#sk-container-id-1 div.sk-parallel-item:last-child::after {align-self: flex-start;width: 50%;}#sk-container-id-1 div.sk-parallel-item:only-child::after {width: 0;}#sk-container-id-1 div.sk-dashed-wrapped {border: 1px dashed gray;margin: 0 0.4em 0.5em 0.4em;box-sizing: border-box;padding-bottom: 0.4em;background-color: white;}#sk-container-id-1 div.sk-label label {font-family: monospace;font-weight: bold;display: inline-block;line-height: 1.2em;}#sk-container-id-1 div.sk-label-container {text-align: center;}#sk-container-id-1 div.sk-container {/* jupyter's `normalize.less` sets `[hidden] { display: none; }` but bootstrap.min.css set `[hidden] { display: none !important; }` so we also need the `!important` here to be able to override the default hidden behavior on the sphinx rendered scikit-learn.org. See: https://github.com/scikit-learn/scikit-learn/issues/21755 */display: inline-block !important;position: relative;}#sk-container-id-1 div.sk-text-repr-fallback {display: none;}</style><div id=\"sk-container-id-1\" class=\"sk-top-container\"><div class=\"sk-text-repr-fallback\"><pre>LinearRegression()</pre><b>In a Jupyter environment, please rerun this cell to show the HTML representation or trust the notebook. <br />On GitHub, the HTML representation is unable to render, please try loading this page with nbviewer.org.</b></div><div class=\"sk-container\" hidden><div class=\"sk-item\"><div class=\"sk-estimator sk-toggleable\"><input class=\"sk-toggleable__control sk-hidden--visually\" id=\"sk-estimator-id-1\" type=\"checkbox\" checked><label for=\"sk-estimator-id-1\" class=\"sk-toggleable__label sk-toggleable__label-arrow\">LinearRegression</label><div class=\"sk-toggleable__content\"><pre>LinearRegression()</pre></div></div></div></div></div>"
      ],
      "text/plain": [
       "LinearRegression()"
      ]
     },
     "execution_count": 14,
     "metadata": {},
     "output_type": "execute_result"
    }
   ],
   "source": [
    "model=LinearRegression()\n",
    "model.fit(X_train,y_train)"
   ]
  },
  {
   "cell_type": "code",
   "execution_count": 15,
   "id": "ea61c800",
   "metadata": {
    "execution": {
     "iopub.execute_input": "2023-05-27T00:29:37.545178Z",
     "iopub.status.busy": "2023-05-27T00:29:37.544081Z",
     "iopub.status.idle": "2023-05-27T00:29:37.550966Z",
     "shell.execute_reply": "2023-05-27T00:29:37.550013Z"
    },
    "papermill": {
     "duration": 0.017892,
     "end_time": "2023-05-27T00:29:37.552931",
     "exception": false,
     "start_time": "2023-05-27T00:29:37.535039",
     "status": "completed"
    },
    "tags": []
   },
   "outputs": [
    {
     "data": {
      "text/plain": [
       "array([20, 60, 88, 47, 42])"
      ]
     },
     "execution_count": 15,
     "metadata": {},
     "output_type": "execute_result"
    }
   ],
   "source": [
    "y_test"
   ]
  },
  {
   "cell_type": "markdown",
   "id": "26c04879",
   "metadata": {
    "papermill": {
     "duration": 0.007605,
     "end_time": "2023-05-27T00:29:37.568281",
     "exception": false,
     "start_time": "2023-05-27T00:29:37.560676",
     "status": "completed"
    },
    "tags": []
   },
   "source": [
    "<a id=\"pre\"></a>\n",
    "<h1 style='background:#867090; border:0; color:white'>Predect<h1>"
   ]
  },
  {
   "cell_type": "code",
   "execution_count": 16,
   "id": "75f983b0",
   "metadata": {
    "execution": {
     "iopub.execute_input": "2023-05-27T00:29:37.585848Z",
     "iopub.status.busy": "2023-05-27T00:29:37.585061Z",
     "iopub.status.idle": "2023-05-27T00:29:37.592584Z",
     "shell.execute_reply": "2023-05-27T00:29:37.591691Z"
    },
    "papermill": {
     "duration": 0.018555,
     "end_time": "2023-05-27T00:29:37.594617",
     "exception": false,
     "start_time": "2023-05-27T00:29:37.576062",
     "status": "completed"
    },
    "tags": []
   },
   "outputs": [
    {
     "data": {
      "text/plain": [
       "array([15.77297223, 56.19959488, 93.59422084, 52.15693262, 33.96495242])"
      ]
     },
     "execution_count": 16,
     "metadata": {},
     "output_type": "execute_result"
    }
   ],
   "source": [
    "y_pred = model.predict(X_test)\n",
    "y_pred"
   ]
  },
  {
   "cell_type": "markdown",
   "id": "9d5936a3",
   "metadata": {
    "papermill": {
     "duration": 0.008246,
     "end_time": "2023-05-27T00:29:37.611085",
     "exception": false,
     "start_time": "2023-05-27T00:29:37.602839",
     "status": "completed"
    },
    "tags": []
   },
   "source": [
    "<a id=\"reg_scatter_plot\"></a>\n",
    "<h1 style='background:#867090; border:0; color:white'>Scatter Plot with Regression Fit<h1>"
   ]
  },
  {
   "cell_type": "code",
   "execution_count": 17,
   "id": "73ea936a",
   "metadata": {
    "execution": {
     "iopub.execute_input": "2023-05-27T00:29:37.629192Z",
     "iopub.status.busy": "2023-05-27T00:29:37.628171Z",
     "iopub.status.idle": "2023-05-27T00:29:37.911831Z",
     "shell.execute_reply": "2023-05-27T00:29:37.911043Z"
    },
    "papermill": {
     "duration": 0.294863,
     "end_time": "2023-05-27T00:29:37.913847",
     "exception": false,
     "start_time": "2023-05-27T00:29:37.618984",
     "status": "completed"
    },
    "tags": []
   },
   "outputs": [
    {
     "data": {
      "text/plain": [
       "[<matplotlib.lines.Line2D at 0x7d166abc3850>]"
      ]
     },
     "execution_count": 17,
     "metadata": {},
     "output_type": "execute_result"
    },
    {
     "data": {
      "image/png": "[encoded data removed]",
      "text/plain": [
       "<Figure size 640x480 with 1 Axes>"
      ]
     },
     "metadata": {},
     "output_type": "display_data"
    }
   ],
   "source": [
    "plt.scatter(X_train , y_train)\n",
    "plt.plot(X_train , model.predict(X_train) , color='#867090')"
   ]
  },
  {
   "cell_type": "code",
   "execution_count": null,
   "id": "7c6638e2",
   "metadata": {
    "papermill": {
     "duration": 0.007974,
     "end_time": "2023-05-27T00:29:37.930134",
     "exception": false,
     "start_time": "2023-05-27T00:29:37.922160",
     "status": "completed"
    },
    "tags": []
   },
   "outputs": [],
   "source": []
  }
 ],
 "metadata": {
  "kernelspec": {
   "display_name": "Python 3",
   "language": "python",
   "name": "python3"
  },
  "language_info": {
   "codemirror_mode": {
    "name": "ipython",
    "version": 3
   },
   "file_extension": ".py",
   "mimetype": "text/x-python",
   "name": "python",
   "nbconvert_exporter": "python",
   "pygments_lexer": "ipython3",
   "version": "3.10.10"
  },
  "papermill": {
   "default_parameters": {},
   "duration": 16.491255,
   "end_time": "2023-05-27T00:29:38.960392",
   "environment_variables": {},
   "exception": null,
   "input_path": "__notebook__.ipynb",
   "output_path": "__notebook__.ipynb",
   "parameters": {},
   "start_time": "2023-05-27T00:29:22.469137",
   "version": "2.4.0"
  }
 },
 "nbformat": 4,
 "nbformat_minor": 5
}
